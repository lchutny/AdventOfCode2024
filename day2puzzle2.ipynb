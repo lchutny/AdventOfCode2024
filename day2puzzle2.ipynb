{
 "cells": [
  {
   "cell_type": "code",
   "execution_count": 18,
   "metadata": {},
   "outputs": [],
   "source": [
    "import pandas as pd\n",
    "import numpy as np"
   ]
  },
  {
   "cell_type": "markdown",
   "metadata": {},
   "source": [
    "# PUZZLE DESCRIPTION\n",
    "The engineers are surprised by the low number of safe reports until they realize they forgot to tell you about the Problem Dampener.  \n",
    "\n",
    "The Problem Dampener is a reactor-mounted module that lets the reactor safety systems tolerate a single bad level in what would otherwise be a safe report. It's like the bad level never happened!  \n",
    "\n",
    "Now, the same rules apply as before, except if removing a single level from an unsafe report would make it safe, the report instead counts as safe.  \n",
    "\n",
    "More of the above example's reports are now safe:  \n",
    "\n",
    "    7 6 4 2 1: Safe without removing any level.  \n",
    "    1 2 7 8 9: Unsafe regardless of which level is removed.  \n",
    "    9 7 6 2 1: Unsafe regardless of which level is removed.  \n",
    "    1 3 2 4 5: Safe by removing the second level, 3.  \n",
    "    8 6 4 4 1: Safe by removing the third level, 4.  \n",
    "    1 3 6 7 9: Safe without removing any level.  \n",
    "\n",
    "Thanks to the Problem Dampener, 4 reports are actually safe!  \n",
    "\n",
    "Update your analysis by handling situations where the Problem Dampener can remove a single level from unsafe reports. How many reports are now safe?"
   ]
  },
  {
   "cell_type": "code",
   "execution_count": 19,
   "metadata": {},
   "outputs": [],
   "source": [
    "def process_line_to_ints(line):\n",
    "    # change the text line into list of integers\n",
    "    levels = list(map(int,line.split()))\n",
    "    return (levels)"
   ]
  },
  {
   "cell_type": "code",
   "execution_count": 20,
   "metadata": {},
   "outputs": [],
   "source": [
    "def process_line_for_order(line):\n",
    "    # determine if list is all increasing or all decreasing:\n",
    "    diff_list = np.diff(line)\n",
    "    score_decr = np.all(diff_list<0)\n",
    "    score_incr =np.all(diff_list>0)\n",
    "    if score_decr or score_incr:\n",
    "        score = True\n",
    "    else: score = False\n",
    "    return score"
   ]
  },
  {
   "cell_type": "code",
   "execution_count": 21,
   "metadata": {},
   "outputs": [],
   "source": [
    "def process_line_for_max_change(line, max_level_change):\n",
    "    diff_list = np.diff(line)\n",
    "    biggest_level_change = max(np.abs(diff_list))\n",
    "    if biggest_level_change <= max_level_change:\n",
    "        score = True\n",
    "    else: score = False\n",
    "    return score"
   ]
  },
  {
   "cell_type": "code",
   "execution_count": 22,
   "metadata": {},
   "outputs": [],
   "source": [
    "def is_line_safe(line,max_level_change):\n",
    "    score_incr_decr = process_line_for_order(line)\n",
    "    score_max_chg = process_line_for_max_change(line,max_level_change)\n",
    "    if score_incr_decr and score_max_chg:\n",
    "        is_safe = True\n",
    "    else: \n",
    "        is_safe = False\n",
    "    return is_safe"
   ]
  },
  {
   "cell_type": "code",
   "execution_count": 23,
   "metadata": {},
   "outputs": [],
   "source": [
    "def check_dampened_line(line,max_level_change):\n",
    "    for i in range(len(line)):\n",
    "        left = line[:i]\n",
    "        right = line[i+1:]\n",
    "        newline = left+right\n",
    "        is_safe = is_line_safe(newline,max_level_change)\n",
    "        if is_safe:\n",
    "            return True\n",
    "    return False"
   ]
  },
  {
   "cell_type": "code",
   "execution_count": 24,
   "metadata": {},
   "outputs": [],
   "source": [
    "def process_file(filename, max_level_change,dampener=False):\n",
    "    with open(filename,'r') as file:\n",
    "        num_safe_reports = 0\n",
    "        for  line in file:\n",
    "            level_ints = process_line_to_ints(line)\n",
    "            is_safe = is_line_safe(level_ints,max_level_change)  # process without any changes first\n",
    "            if is_safe:\n",
    "                num_safe_reports +=1\n",
    "            else:\n",
    "                if dampener:  # If using the dampener function, check if dropping one digit will make the line safe\n",
    "                    if check_dampened_line(level_ints,max_level_change):\n",
    "                        num_safe_reports+=1\n",
    "    return num_safe_reports"
   ]
  },
  {
   "cell_type": "code",
   "execution_count": 27,
   "metadata": {},
   "outputs": [
    {
     "name": "stdout",
     "output_type": "stream",
     "text": [
      "Total Safe Reports: 4\n"
     ]
    }
   ],
   "source": [
    "# TEST\n",
    "max_level_change = 3\n",
    "num_safe_reports = process_file(\"data/testday2.txt\",max_level_change,dampener=True)\n",
    "print(f\"Total Safe Reports: {num_safe_reports}\")"
   ]
  },
  {
   "cell_type": "code",
   "execution_count": 28,
   "metadata": {},
   "outputs": [
    {
     "name": "stdout",
     "output_type": "stream",
     "text": [
      "Total Safe Reports with Problem Dampener: 569\n"
     ]
    }
   ],
   "source": [
    "# ACTUAL\n",
    "max_level_change = 3\n",
    "num_safe_reports = process_file(\"data/day2_input.txt\",max_level_change,dampener=True)\n",
    "print(f\"Total Safe Reports with Problem Dampener: {num_safe_reports}\")"
   ]
  },
  {
   "cell_type": "markdown",
   "metadata": {},
   "source": [
    "# CORRECT ANSWER!"
   ]
  }
 ],
 "metadata": {
  "kernelspec": {
   "display_name": "adventofcode",
   "language": "python",
   "name": "python3"
  },
  "language_info": {
   "codemirror_mode": {
    "name": "ipython",
    "version": 3
   },
   "file_extension": ".py",
   "mimetype": "text/x-python",
   "name": "python",
   "nbconvert_exporter": "python",
   "pygments_lexer": "ipython3",
   "version": "3.13.1"
  }
 },
 "nbformat": 4,
 "nbformat_minor": 2
}
