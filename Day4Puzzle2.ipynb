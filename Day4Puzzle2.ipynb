{
 "cells": [
  {
   "cell_type": "code",
   "execution_count": 2,
   "metadata": {},
   "outputs": [],
   "source": [
    "import pandas as pd\n",
    "import numpy as np"
   ]
  },
  {
   "cell_type": "markdown",
   "metadata": {},
   "source": [
    "# PROBLEM DEFINITION AND EXAMPLE   \n",
    "Looking for the instructions, you flip over the word search to find that this isn't actually an XMAS puzzle; it's an X-MAS puzzle in which you're supposed to find two MAS in the shape of an X. One way to achieve that is like this:  \n",
    "\n",
    "    M.S\n",
    "    .A.\n",
    "    M.S  \n",
    "\n",
    "Irrelevant characters have again been replaced with . in the above diagram. Within the X, each MAS can be written forwards or backwards.   \n",
    "\n",
    "Here's the same example from before, but this time all of the X-MASes have been kept instead:  \n",
    "\n",
    "    .M.S......\n",
    "    ..A..MSMS.\n",
    "    .M.S.MAA..\n",
    "    ..A.ASMSM.\n",
    "    .M.S.M....\n",
    "    ..........\n",
    "    S.S.S.S.S.\n",
    "    .A.A.A.A..\n",
    "    M.M.M.M.M.\n",
    "    ..........\n",
    "\n",
    "In this example, an X-MAS appears 9 times.  \n",
    "\n",
    "Flip the word search from the instructions back over to the word search side and try again. How many times does an X-MAS appear?  \n",
    "\n"
   ]
  },
  {
   "cell_type": "code",
   "execution_count": 3,
   "metadata": {},
   "outputs": [],
   "source": [
    "# Cheated - used a geeks for geeks solution, tracing each starting letter in a given direction\n",
    "# Python program to search word in 2D grid in 8 directions\n",
    "\n",
    "# This function searches for the given word\n",
    "# in all 8 directions from the coordinate.\n",
    "def search2D(grid, row, col, word):\n",
    "    m = len(grid)\n",
    "    n = len(grid[0])\n",
    "\n",
    "    # return false if the given coordinate\n",
    "    # does not match with first index char.\n",
    "    if grid[row][col] != word[0]:\n",
    "        return False\n",
    "\n",
    "    lenWord = len(word)\n",
    "\n",
    "    # x and y are used to set the direction in which\n",
    "    # word needs to be searched.\n",
    "    x = [-1, -1, -1, 0, 0, 1, 1, 1]\n",
    "    y = [-1, 0, 1, -1, 1, -1, 0, 1]\n",
    "\n",
    "    # This loop will search in all the 8 directions\n",
    "    # one by one. It will return true if one of the\n",
    "    # directions contain the word.\n",
    "    wordcount = 0\n",
    "    for dir in range(8):\n",
    "\n",
    "        # Initialize starting point for current direction\n",
    "        currX, currY = row + x[dir], col + y[dir]\n",
    "        k = 1\n",
    "\n",
    "        while k < lenWord:\n",
    "\n",
    "            # break if out of bounds\n",
    "            if currX >= m or currX < 0 or currY >= n or currY < 0:\n",
    "                break\n",
    "\n",
    "            # break if characters dont match\n",
    "            if grid[currX][currY] != word[k]:\n",
    "                break\n",
    "\n",
    "            # Moving in particular direction\n",
    "            currX += x[dir]\n",
    "            currY += y[dir]\n",
    "            k += 1\n",
    "\n",
    "        # If all characters matched, then value of must\n",
    "        # be equal to length of word and we increment the count by 1\n",
    "        if k == lenWord:\n",
    "            wordcount +=1\n",
    "            \n",
    "    # if word is not found in any direction, the counter is not incremented and returns 0\n",
    "    return wordcount\n",
    "    \n",
    "# This function calls search2D for each coordinate\n",
    "\n",
    "\n",
    "def searchWord(grid, word):\n",
    "    m = len(grid)\n",
    "    n = len(grid[0])\n",
    "\n",
    "    #ans = []\n",
    "    total_words = 0\n",
    "    for i in range(m):\n",
    "        for j in range(n):\n",
    "\n",
    "            # count number of words found at this coordinate\n",
    "            num_words_for_coord = search2D(grid,i,j,word)\n",
    "            total_words += num_words_for_coord\n",
    "\n",
    "    return total_words"
   ]
  },
  {
   "cell_type": "code",
   "execution_count": 4,
   "metadata": {},
   "outputs": [],
   "source": [
    "\n",
    "def get_data_into_grid(filename):        \n",
    "    data = []\n",
    "    with open (filename, 'r') as f:\n",
    "        for l in f:\n",
    "            ar = np.array(list(l.strip()))\n",
    "            data.append(ar)\n",
    "    data = np.array(data)\n",
    "    print(f\"Shape of data: {data.shape}\")\n",
    "    return data"
   ]
  },
  {
   "cell_type": "code",
   "execution_count": 5,
   "metadata": {},
   "outputs": [
    {
     "name": "stdout",
     "output_type": "stream",
     "text": [
      "Shape of data: (10, 10)\n",
      "38\n"
     ]
    }
   ],
   "source": [
    "# TEST\n",
    "filename = 'data/day4_prob1_testinput.txt'\n",
    "grid = get_data_into_grid(filename)\n",
    "word = 'MAS'\n",
    "answer = searchWord(grid,word)\n",
    "print(answer)"
   ]
  },
  {
   "cell_type": "code",
   "execution_count": 7,
   "metadata": {},
   "outputs": [
    {
     "name": "stdout",
     "output_type": "stream",
     "text": [
      "Shape of data: (140, 140)\n",
      "7541\n"
     ]
    }
   ],
   "source": [
    "# REAL PROBLEM\n",
    "filename = 'data/day4_prob1_input.txt'\n",
    "grid = get_data_into_grid(filename)\n",
    "word = 'MAS'\n",
    "answer = searchWord(grid,word)\n",
    "print(answer)"
   ]
  },
  {
   "cell_type": "markdown",
   "metadata": {},
   "source": [
    "# CORRECT ANSWER  \n",
    "Key was to search in one direction after finding the first two letters in a given direction. "
   ]
  }
 ],
 "metadata": {
  "kernelspec": {
   "display_name": "adventofcode",
   "language": "python",
   "name": "python3"
  },
  "language_info": {
   "codemirror_mode": {
    "name": "ipython",
    "version": 3
   },
   "file_extension": ".py",
   "mimetype": "text/x-python",
   "name": "python",
   "nbconvert_exporter": "python",
   "pygments_lexer": "ipython3",
   "version": "3.13.1"
  }
 },
 "nbformat": 4,
 "nbformat_minor": 2
}
