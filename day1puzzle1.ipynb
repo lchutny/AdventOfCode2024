{
 "cells": [
  {
   "cell_type": "code",
   "execution_count": 2,
   "metadata": {},
   "outputs": [],
   "source": [
    "import numpy as np\n",
    "import pandas as pd"
   ]
  },
  {
   "cell_type": "markdown",
   "metadata": {},
   "source": [
    "# PROBLEM DESCRIPTION AND EXAMPLE\n",
    "For example:\n",
    "\n",
    "3 --> 4  \n",
    "4 --> 3  \n",
    "2 --> 5  \n",
    "1 --> 3  \n",
    "3 --> 9  \n",
    "3 --> 3  \n",
    "Maybe the lists are only off by a small amount! To find out, pair up the numbers and measure how far apart they are. Pair up the smallest number in the left list with the smallest number in the right list, then the second-smallest left number with the second-smallest right number, and so on.  \n",
    "\n",
    "Within each pair, figure out how far apart the two numbers are; you'll need to add up all of those distances. For example, if you pair up a 3 from the left list with a 7 from the right list, the distance apart is 4; if you pair up a 9 with a 3, the distance apart is 6.  \n",
    "\n",
    "In the example list above, the pairs and distances would be as follows:  \n",
    "\n",
    "* The smallest number in the left list is 1, and the smallest number in the right list is 3. The distance between them is 2.  \n",
    "* The second-smallest number in the left list is 2, and the second-smallest number in the right list is another 3. The distance between them is 1.  \n",
    "* The third-smallest number in both lists is 3, so the distance between them is 0.  \n",
    "* The next numbers to pair up are 3 and 4, a distance of 1.  \n",
    "* The fifth-smallest numbers in each list are 3 and 5, a distance of 2.  \n",
    "* Finally, the largest number in the left list is 4, while the largest number in the right list is 9; these are a distance 5 apart.  \n",
    "\n",
    "To find the total distance between the left list and the right list, add up the distances between all of the pairs you found. In the example above, this is 2 + 1 + 0 + 1 + 2 + 5, a total distance of 11!  \n",
    "\n",
    "Your actual left and right lists contain many location IDs. What is the total distance between your lists?"
   ]
  },
  {
   "cell_type": "code",
   "execution_count": 8,
   "metadata": {},
   "outputs": [],
   "source": [
    "def diff_two_historian_lists(hist_list1,hist_list2):\n",
    "    l1 = sorted(hist_list1)\n",
    "    l2 = sorted(hist_list2)\n",
    "    total = np.sum(np.abs(np.subtract(l1,l2)))\n",
    "    return total    "
   ]
  },
  {
   "cell_type": "code",
   "execution_count": 10,
   "metadata": {},
   "outputs": [
    {
     "name": "stdout",
     "output_type": "stream",
     "text": [
      "11\n"
     ]
    }
   ],
   "source": [
    "# Test\n",
    "hist_list_1 = [3,4,2,1,3,3]\n",
    "hist_list_2 = [4,3,5,3,9,3]\n",
    "tot = diff_two_historian_lists(hist_list_1,hist_list_2)\n",
    "print(total)"
   ]
  },
  {
   "cell_type": "code",
   "execution_count": 14,
   "metadata": {},
   "outputs": [
    {
     "data": {
      "text/html": [
       "<div>\n",
       "<style scoped>\n",
       "    .dataframe tbody tr th:only-of-type {\n",
       "        vertical-align: middle;\n",
       "    }\n",
       "\n",
       "    .dataframe tbody tr th {\n",
       "        vertical-align: top;\n",
       "    }\n",
       "\n",
       "    .dataframe thead th {\n",
       "        text-align: right;\n",
       "    }\n",
       "</style>\n",
       "<table border=\"1\" class=\"dataframe\">\n",
       "  <thead>\n",
       "    <tr style=\"text-align: right;\">\n",
       "      <th></th>\n",
       "      <th>l1</th>\n",
       "      <th>l2</th>\n",
       "    </tr>\n",
       "  </thead>\n",
       "  <tbody>\n",
       "    <tr>\n",
       "      <th>0</th>\n",
       "      <td>77221</td>\n",
       "      <td>93653</td>\n",
       "    </tr>\n",
       "    <tr>\n",
       "      <th>1</th>\n",
       "      <td>61169</td>\n",
       "      <td>27995</td>\n",
       "    </tr>\n",
       "    <tr>\n",
       "      <th>2</th>\n",
       "      <td>49546</td>\n",
       "      <td>69782</td>\n",
       "    </tr>\n",
       "    <tr>\n",
       "      <th>3</th>\n",
       "      <td>11688</td>\n",
       "      <td>41563</td>\n",
       "    </tr>\n",
       "    <tr>\n",
       "      <th>4</th>\n",
       "      <td>15820</td>\n",
       "      <td>48282</td>\n",
       "    </tr>\n",
       "  </tbody>\n",
       "</table>\n",
       "</div>"
      ],
      "text/plain": [
       "      l1     l2\n",
       "0  77221  93653\n",
       "1  61169  27995\n",
       "2  49546  69782\n",
       "3  11688  41563\n",
       "4  15820  48282"
      ]
     },
     "execution_count": 14,
     "metadata": {},
     "output_type": "execute_result"
    }
   ],
   "source": [
    "# Actual Problem lists:\n",
    "df = pd.read_csv('data/day1_prob1_input.txt', header=None, sep=r'\\s+', names=['l1','l2'])\n",
    "df.head()"
   ]
  },
  {
   "cell_type": "code",
   "execution_count": 15,
   "metadata": {},
   "outputs": [
    {
     "data": {
      "text/html": [
       "<div>\n",
       "<style scoped>\n",
       "    .dataframe tbody tr th:only-of-type {\n",
       "        vertical-align: middle;\n",
       "    }\n",
       "\n",
       "    .dataframe tbody tr th {\n",
       "        vertical-align: top;\n",
       "    }\n",
       "\n",
       "    .dataframe thead th {\n",
       "        text-align: right;\n",
       "    }\n",
       "</style>\n",
       "<table border=\"1\" class=\"dataframe\">\n",
       "  <thead>\n",
       "    <tr style=\"text-align: right;\">\n",
       "      <th></th>\n",
       "      <th>l1</th>\n",
       "      <th>l2</th>\n",
       "    </tr>\n",
       "  </thead>\n",
       "  <tbody>\n",
       "    <tr>\n",
       "      <th>count</th>\n",
       "      <td>1000.000000</td>\n",
       "      <td>1000.000000</td>\n",
       "    </tr>\n",
       "    <tr>\n",
       "      <th>mean</th>\n",
       "      <td>54315.928000</td>\n",
       "      <td>54086.759000</td>\n",
       "    </tr>\n",
       "    <tr>\n",
       "      <th>std</th>\n",
       "      <td>25273.708041</td>\n",
       "      <td>26428.877839</td>\n",
       "    </tr>\n",
       "    <tr>\n",
       "      <th>min</th>\n",
       "      <td>10035.000000</td>\n",
       "      <td>10132.000000</td>\n",
       "    </tr>\n",
       "    <tr>\n",
       "      <th>25%</th>\n",
       "      <td>32875.000000</td>\n",
       "      <td>30319.250000</td>\n",
       "    </tr>\n",
       "    <tr>\n",
       "      <th>50%</th>\n",
       "      <td>52760.000000</td>\n",
       "      <td>51654.000000</td>\n",
       "    </tr>\n",
       "    <tr>\n",
       "      <th>75%</th>\n",
       "      <td>75711.500000</td>\n",
       "      <td>77868.000000</td>\n",
       "    </tr>\n",
       "    <tr>\n",
       "      <th>max</th>\n",
       "      <td>99959.000000</td>\n",
       "      <td>99897.000000</td>\n",
       "    </tr>\n",
       "  </tbody>\n",
       "</table>\n",
       "</div>"
      ],
      "text/plain": [
       "                 l1            l2\n",
       "count   1000.000000   1000.000000\n",
       "mean   54315.928000  54086.759000\n",
       "std    25273.708041  26428.877839\n",
       "min    10035.000000  10132.000000\n",
       "25%    32875.000000  30319.250000\n",
       "50%    52760.000000  51654.000000\n",
       "75%    75711.500000  77868.000000\n",
       "max    99959.000000  99897.000000"
      ]
     },
     "execution_count": 15,
     "metadata": {},
     "output_type": "execute_result"
    }
   ],
   "source": [
    "# check for no weird data\n",
    "df.describe()"
   ]
  },
  {
   "cell_type": "code",
   "execution_count": 19,
   "metadata": {},
   "outputs": [
    {
     "data": {
      "text/plain": [
       "l1    False\n",
       "l2    False\n",
       "dtype: bool"
      ]
     },
     "execution_count": 19,
     "metadata": {},
     "output_type": "execute_result"
    }
   ],
   "source": [
    "df.isna().any()"
   ]
  },
  {
   "cell_type": "code",
   "execution_count": 21,
   "metadata": {},
   "outputs": [
    {
     "name": "stdout",
     "output_type": "stream",
     "text": [
      "1580061\n"
     ]
    }
   ],
   "source": [
    "h1 = df.l1.to_list()\n",
    "h2 = df.l2.to_list()\n",
    "total = diff_two_historian_lists(h1,h2)\n",
    "print(total)"
   ]
  },
  {
   "cell_type": "markdown",
   "metadata": {},
   "source": [
    "## Correct Answer! Got it right !"
   ]
  }
 ],
 "metadata": {
  "kernelspec": {
   "display_name": "adventofcode",
   "language": "python",
   "name": "python3"
  },
  "language_info": {
   "codemirror_mode": {
    "name": "ipython",
    "version": 3
   },
   "file_extension": ".py",
   "mimetype": "text/x-python",
   "name": "python",
   "nbconvert_exporter": "python",
   "pygments_lexer": "ipython3",
   "version": "3.13.1"
  }
 },
 "nbformat": 4,
 "nbformat_minor": 2
}
