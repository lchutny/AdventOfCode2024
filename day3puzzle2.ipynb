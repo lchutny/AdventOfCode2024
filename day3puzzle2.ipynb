{
 "cells": [
  {
   "cell_type": "code",
   "execution_count": 5,
   "metadata": {},
   "outputs": [],
   "source": [
    "import pandas as pd\n",
    "import numpy as np\n",
    "import re"
   ]
  },
  {
   "cell_type": "markdown",
   "metadata": {},
   "source": [
    "**Part 1:**  \n",
    "The computer appears to be trying to run a program, but its memory (your puzzle input) is corrupted. All of the instructions have been jumbled up!  \n",
    "\n",
    "It seems like the goal of the program is just to multiply some numbers. It does that with instructions like mul(X,Y), where X and Y are each 1-3 digit numbers. For instance, mul(44,46) multiplies 44 by 46 to get a result of 2024. Similarly, mul(123,4) would multiply 123 by 4.  \n",
    "\n",
    "However, because the program's memory has been corrupted, there are also many invalid characters that should be ignored, even if they look like part of a mul instruction. Sequences like mul(4*, mul(6,9!, ?(12,34), or mul ( 2 , 4 ) do nothing.  \n",
    "\n",
    "For example, consider the following section of corrupted memory:  \n",
    "\n",
    "    xmul(2,4)%&mul[3,7]!@^do_not_mul(5,5)+mul(32,64]then(mul(11,8)mul(8,5))  \n",
    "\n",
    "Only the four highlighted sections are real mul instructions. Adding up the result of each instruction produces 161 (2*4 + 5*5 + 11*8 + 8*5).  \n",
    "\n",
    "Scan the corrupted memory for uncorrupted mul instructions. What do you get if you add up all of the results of the multiplications?  \n",
    "\n",
    "**Part 2:**  \n",
    "As you scan through the corrupted memory, you notice that some of the conditional statements are also still intact. If you handle some of the uncorrupted conditional statements in the program, you might be able to get an even more accurate result.  \n",
    "\n",
    "There are two new instructions you'll need to handle:  \n",
    "\n",
    "* The do() instruction enables future mul instructions.  \n",
    "* The don't() instruction disables future mul instructions.  \n",
    "\n",
    "Only the most recent do() or don't() instruction applies. At the beginning of the program, mul instructions are enabled.  \n",
    "\n",
    "For example:  \n",
    "\n",
    "    xmul(2,4)&mul[3,7]!^don't()_mul(5,5)+mul(32,64](mul(11,8)undo()?mul(8,5))  \n",
    "\n",
    "This corrupted memory is similar to the example from before, but this time the mul(5,5) and mul(11,8) instructions are disabled because there is a don't() instruction before them. The other mul instructions function normally, including the one at the end that gets re-enabled by a do() instruction.  \n",
    "\n",
    "This time, the sum of the results is 48 (2*4 + 8*5).  \n",
    "\n",
    "Handle the new instructions; what do you get if you add up all of the results of just the enabled multiplications?  "
   ]
  },
  {
   "cell_type": "code",
   "execution_count": 39,
   "metadata": {},
   "outputs": [],
   "source": [
    "def get_all_muls(line):\n",
    "    search_text = r'mul\\([0-9]{1,3},[0-9]{1,3}\\)'\n",
    "    result = re.findall(search_text,line)\n",
    "    return result"
   ]
  },
  {
   "cell_type": "code",
   "execution_count": 45,
   "metadata": {},
   "outputs": [],
   "source": [
    "def get_numeric_tuples(text_tuple_list):\n",
    "    search_text2 = r'\\([0-9]{1,3},[0-9]{1,3}\\)' \n",
    "    z = []\n",
    "    for i in text_tuple_list:\n",
    "        y = eval(re.findall(search_text2,i)[0])\n",
    "        z.append(y)\n",
    "    return z"
   ]
  },
  {
   "cell_type": "code",
   "execution_count": 40,
   "metadata": {},
   "outputs": [],
   "source": [
    "def get_total_of_muls(numeric_tuple_list):\n",
    "    total = 0\n",
    "    for t in numeric_tuple_list:\n",
    "        result = t[0]*t[1]\n",
    "        total += result\n",
    "    return total"
   ]
  },
  {
   "cell_type": "code",
   "execution_count": 41,
   "metadata": {},
   "outputs": [],
   "source": [
    "def process_line(line):\n",
    "    muls = get_all_muls(line)\n",
    "    num_tuples = get_numeric_tuples(muls)\n",
    "    muls_total = get_total_of_muls(num_tuples)\n",
    "    return muls_total"
   ]
  },
  {
   "cell_type": "code",
   "execution_count": 46,
   "metadata": {},
   "outputs": [
    {
     "name": "stdout",
     "output_type": "stream",
     "text": [
      "<class 'str'> xmul(2,4)%&mul[3,7]!@^do_not_mul(5,5)+mul(32,64]then(mul(11,8)mul(8,5))\n",
      "161\n"
     ]
    }
   ],
   "source": [
    "# TEST\n",
    "filename = 'data/day3_test_input.txt'\n",
    "with open (filename,'r') as file:\n",
    "        for line in file:\n",
    "            print(type(line),line)\n",
    "            total = process_line(line)\n",
    "            print(total)"
   ]
  },
  {
   "cell_type": "code",
   "execution_count": 50,
   "metadata": {},
   "outputs": [
    {
     "name": "stdout",
     "output_type": "stream",
     "text": [
      "189527826\n"
     ]
    }
   ],
   "source": [
    "# real data\n",
    "filename = 'data/day3_input.txt'\n",
    "overall_total = 0\n",
    "with open (filename,'r') as file:\n",
    "        for line in file:\n",
    "            total = process_line(line)\n",
    "            overall_total += total\n",
    "print(overall_total)"
   ]
  },
  {
   "cell_type": "markdown",
   "metadata": {},
   "source": [
    "# CORRECT ANSWER!"
   ]
  }
 ],
 "metadata": {
  "kernelspec": {
   "display_name": "adventofcode",
   "language": "python",
   "name": "python3"
  },
  "language_info": {
   "codemirror_mode": {
    "name": "ipython",
    "version": 3
   },
   "file_extension": ".py",
   "mimetype": "text/x-python",
   "name": "python",
   "nbconvert_exporter": "python",
   "pygments_lexer": "ipython3",
   "version": "3.13.1"
  }
 },
 "nbformat": 4,
 "nbformat_minor": 2
}
