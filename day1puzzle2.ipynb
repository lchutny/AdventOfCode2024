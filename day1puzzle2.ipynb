{
 "cells": [
  {
   "cell_type": "code",
   "execution_count": 1,
   "metadata": {},
   "outputs": [],
   "source": [
    "import pandas as pd\n",
    "import numpy as np"
   ]
  },
  {
   "cell_type": "markdown",
   "metadata": {},
   "source": [
    "# Problem Statement and Example\n",
    "This time, you'll need to figure out exactly how often each number from the left list appears in the right list. Calculate a total similarity score by adding up each number in the left list after multiplying it by the number of times that number appears in the right list.\n",
    "\n",
    "Here are the same example lists again:\n",
    "\n",
    "3   4  \n",
    "4   3  \n",
    "2   5  \n",
    "1   3  \n",
    "3   9  \n",
    "3   3  \n",
    "For these example lists, here is the process of finding the similarity score:\n",
    "\n",
    "* The first number in the left list is 3. It appears in the right list three times, so the similarity score increases by 3 * 3 = 9.\n",
    "* The second number in the left list is 4. It appears in the right list once, so the similarity score increases by 4 * 1 = 4.\n",
    "*  The third number in the left list is 2. It does not appear in the right list, so the similarity score does not increase (2 * 0 = 0).\n",
    "* The fourth number, 1, also does not appear in the right list.\n",
    "* The fifth number, 3, appears in the right list three times; the similarity score increases by 9.\n",
    "* The last number, 3, appears in the right list three times; the similarity score again increases by 9.\n",
    "* So, for these example lists, the similarity score at the end of this process is 31 (9 + 4 + 0 + 0 + 9 + 9).\n",
    "\n",
    "Once again consider your left and right lists. What is their similarity score?"
   ]
  },
  {
   "cell_type": "code",
   "execution_count": 15,
   "metadata": {},
   "outputs": [],
   "source": [
    "# one sided problem, NOT looking at the number of times something occurs in right list \n",
    "# create a dictionary with the count of how often each 'id' occurs in the left list, so key is the id in the RIGHT list, value is the count for that ID in the right list\n",
    "# multiply the values in the left list by the count, if key is not in the dict, then count is 0\n",
    "def similarity_score(list1,list2):\n",
    "    from collections import Counter\n",
    "    # Count how many times each of the values in the right list occur\n",
    "    right_counts = Counter(list2)\n",
    "    # Get the scores for the left list , 0 if the value doesn't occur, then multiply and sum them.\n",
    "    scores = [right_counts.get(x,0) for x in list1]\n",
    "    total_score = np.sum(np.multiply(list1,scores))\n",
    "    return total_score"
   ]
  },
  {
   "cell_type": "code",
   "execution_count": 16,
   "metadata": {},
   "outputs": [],
   "source": [
    "testdf = pd.read_csv('data/test.txt', header=None, sep=r'\\s+', names=['t1','t2'])\n",
    "t1 = testdf.t1.to_list()\n",
    "t2 = testdf.t2.to_list()"
   ]
  },
  {
   "cell_type": "code",
   "execution_count": 17,
   "metadata": {},
   "outputs": [
    {
     "data": {
      "text/plain": [
       "np.int64(31)"
      ]
     },
     "execution_count": 17,
     "metadata": {},
     "output_type": "execute_result"
    }
   ],
   "source": [
    "# Score should be 31\n",
    "x = similarity_score(t1,t2)\n",
    "x"
   ]
  },
  {
   "cell_type": "code",
   "execution_count": 18,
   "metadata": {},
   "outputs": [
    {
     "name": "stdout",
     "output_type": "stream",
     "text": [
      "total similarity score is 23046913\n"
     ]
    }
   ],
   "source": [
    "df = pd.read_csv('data/day1_prob1_input.txt', header=None, sep=r'\\s+', names=['l1','l2'])\n",
    "h1 = df.l1.to_list()\n",
    "h2 = df.l2.to_list()\n",
    "simscore = similarity_score(h1,h2)\n",
    "print(f\"total similarity score is {simscore}\")"
   ]
  },
  {
   "cell_type": "markdown",
   "metadata": {},
   "source": [
    "# CORRECT ANSWER!"
   ]
  }
 ],
 "metadata": {
  "kernelspec": {
   "display_name": "adventofcode",
   "language": "python",
   "name": "python3"
  },
  "language_info": {
   "codemirror_mode": {
    "name": "ipython",
    "version": 3
   },
   "file_extension": ".py",
   "mimetype": "text/x-python",
   "name": "python",
   "nbconvert_exporter": "python",
   "pygments_lexer": "ipython3",
   "version": "3.13.1"
  }
 },
 "nbformat": 4,
 "nbformat_minor": 2
}
