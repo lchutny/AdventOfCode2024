{
 "cells": [
  {
   "cell_type": "code",
   "execution_count": 50,
   "metadata": {},
   "outputs": [],
   "source": [
    "import pandas as pd\n",
    "import numpy as np\n",
    "import itertools"
   ]
  },
  {
   "cell_type": "markdown",
   "metadata": {},
   "source": [
    "# PRINT IN ORDER  \n",
    "\n",
    "Rules: \n",
    "Like  \n",
    "47|53  \n",
    "97|13  \n",
    "97|61  \n",
    "97|47  \n",
    "Where (for example) if the update contains both page 47 and 53, 47 must be printed before 53 (although it can have pages between). 1 rule per line\n",
    "\n",
    "Update jobs look like this:  (1 update per line)  \n",
    "75,47,61,53,29  \n",
    "97,61,53,29,13  \n",
    "\n",
    "So to fix:\n",
    "1) Determine which updates are already in the correct order\n",
    "2) determine the middle page number of the correctly ordered updates\n"
   ]
  },
  {
   "cell_type": "markdown",
   "metadata": {},
   "source": [
    "## Solution outline / pseudocode\n",
    "1) Read in file:\n",
    "   * save rules from first half of file to one data structure\n",
    "     * Determine when to break file by presence of empty line\n",
    "   * save update jobs to a second data structure\n",
    "2) For each update job:\n",
    "   * Determine if job is valid (does it obey all the rules)\n",
    "     * naive way:\n",
    "         * for each number i in the udpate job:\n",
    "           * for each number j in the rest of the job:\n",
    "             * for pair of i and j\n",
    "             * find all rules that contain i\n",
    "             * for rules with the correct i,j order, continue\n",
    "             * for rules that are violated with a j,i order, mark that job as fail\n",
    "   * If valid, then determine middle number and save to 3rd data structure\n",
    "3) Sum all the middle numbers"
   ]
  },
  {
   "cell_type": "markdown",
   "metadata": {},
   "source": [
    "Q: Could we:\n",
    "* Sort all the rules so that only the allowed order shows\n",
    "  * How?\n",
    "* For each job, get the ordered list from the rules. \n",
    "  * \n",
    "* See if the two lists match. If not, then fail. \n",
    "This is cool, but not sure how to create the 'allowed order' sort. "
   ]
  },
  {
   "cell_type": "code",
   "execution_count": 47,
   "metadata": {},
   "outputs": [],
   "source": [
    "def input_to_structures(filename):\n",
    "    with open (filename, 'r') as f:\n",
    "        rules = []\n",
    "        jobs = []\n",
    "        for line in f:\n",
    "            if \"|\" in line:\n",
    "                x = line.strip().split(sep='|')\n",
    "                rules.append(x)\n",
    "            elif \",\" in line:\n",
    "                y = line.strip().split(sep=',')\n",
    "                jobs.append(y)\n",
    "    return rules,jobs"
   ]
  },
  {
   "cell_type": "code",
   "execution_count": 48,
   "metadata": {},
   "outputs": [],
   "source": [
    "def valid_pair(rules,test_pair):\n",
    "    applicable_rules = []\n",
    "    for rule in rules:\n",
    "        if test_pair[0] in rule:\n",
    "            applicable_rules.append(rule)\n",
    "    for rule in applicable_rules:\n",
    "        if test_pair[1] in rule:\n",
    "            if test_pair == rule:\n",
    "                return True\n",
    "    return False"
   ]
  },
  {
   "cell_type": "code",
   "execution_count": 58,
   "metadata": {},
   "outputs": [],
   "source": [
    "def test_all_pages_in_job(rules,job):\n",
    "    for item in itertools.combinations(job,2):\n",
    "        if not valid_pair(rules,list(item)):\n",
    "            return False\n",
    "    return True"
   ]
  },
  {
   "cell_type": "code",
   "execution_count": 65,
   "metadata": {},
   "outputs": [],
   "source": [
    "def get_middle_number(valid_job):\n",
    "    # get the middle number \n",
    "    size = len(valid_job)\n",
    "    if size %2:\n",
    "        pass #Odd\n",
    "    else:\n",
    "        print(f\"List has no defined middle because it is an even size of {size}\")\n",
    "        return\n",
    "    middle_index = size//2\n",
    "    middle_number = valid_job[middle_index]\n",
    "    return middle_number"
   ]
  },
  {
   "cell_type": "code",
   "execution_count": 76,
   "metadata": {},
   "outputs": [],
   "source": [
    "def get_answer(filename):\n",
    "    # coordination function\n",
    "    rules,jobs = input_to_structures(filename)\n",
    "    middle_num_sum=0\n",
    "    for job in jobs:\n",
    "        if test_all_pages_in_job(rules,job):\n",
    "            middle_num_str = get_middle_number(job)\n",
    "            middle_num_sum += int(middle_num_str)\n",
    "    return middle_num_sum"
   ]
  },
  {
   "cell_type": "code",
   "execution_count": 77,
   "metadata": {},
   "outputs": [
    {
     "name": "stdout",
     "output_type": "stream",
     "text": [
      "Sum of middle numbers for valid jobs = 143\n"
     ]
    }
   ],
   "source": [
    "# Test, sum should be 143\n",
    "filename = 'data/day5_prob1_testinput.txt'\n",
    "middle_number_sum = get_answer(filename)\n",
    "print(f\"Sum of middle numbers for valid jobs = {middle_number_sum}\")"
   ]
  },
  {
   "cell_type": "code",
   "execution_count": 78,
   "metadata": {},
   "outputs": [
    {
     "name": "stdout",
     "output_type": "stream",
     "text": [
      "Sum of middle numbers for valid jobs = 5064\n"
     ]
    }
   ],
   "source": [
    "# Full file\n",
    "filename = 'data/day5_prob1_input.txt'\n",
    "middle_number_sum = get_answer(filename)\n",
    "print(f\"Sum of middle numbers for valid jobs = {middle_number_sum}\")"
   ]
  },
  {
   "cell_type": "markdown",
   "metadata": {},
   "source": [
    "# CORRECT ANSWER IS 5064!!"
   ]
  },
  {
   "cell_type": "markdown",
   "metadata": {},
   "source": [
    "# TESTING"
   ]
  },
  {
   "cell_type": "code",
   "execution_count": 49,
   "metadata": {},
   "outputs": [
    {
     "name": "stdout",
     "output_type": "stream",
     "text": [
      "[['47', '53'], ['97', '13'], ['97', '61'], ['97', '47'], ['75', '29'], ['61', '13'], ['75', '53'], ['29', '13'], ['97', '29'], ['53', '29'], ['61', '53'], ['97', '53'], ['61', '29'], ['47', '13'], ['75', '47'], ['97', '75'], ['47', '61'], ['75', '61'], ['47', '29'], ['75', '13'], ['53', '13']]\n",
      "[['75', '47', '61', '53', '29'], ['97', '61', '53', '29', '13'], ['75', '29', '13'], ['75', '97', '47', '61', '53'], ['61', '13', '29'], ['97', '13', '75', '29', '47']]\n"
     ]
    }
   ],
   "source": [
    "# Test the input to structure function\n",
    "filename = 'data/day5_prob1_testinput.txt'\n",
    "rules,jobs = input_to_structures(filename)\n",
    "print(rules)\n",
    "print(jobs)"
   ]
  },
  {
   "cell_type": "code",
   "execution_count": 67,
   "metadata": {},
   "outputs": [
    {
     "name": "stdout",
     "output_type": "stream",
     "text": [
      "29\n"
     ]
    }
   ],
   "source": [
    "# test the middle number function\n",
    "midnum = get_middle_number(jobs[2])\n",
    "print(midnum)"
   ]
  },
  {
   "cell_type": "code",
   "execution_count": 62,
   "metadata": {},
   "outputs": [
    {
     "name": "stdout",
     "output_type": "stream",
     "text": [
      "Result should be true, True\n",
      "Result should be false, False\n"
     ]
    }
   ],
   "source": [
    "# test the test_all_pages_in_job function\n",
    "result = test_all_pages_in_job(rules,jobs[0])\n",
    "print(f\"Result should be true, {result}\")\n",
    "result2 = test_all_pages_in_job(rules, jobs[3])\n",
    "print(f\"Result should be false, {result2}\")"
   ]
  },
  {
   "cell_type": "code",
   "execution_count": null,
   "metadata": {},
   "outputs": [],
   "source": [
    "# Test the valid_pair function\n",
    "pair_nums = ['75','47']\n",
    "z = valid_pair(rules,pair_nums)\n",
    "print(z)"
   ]
  }
 ],
 "metadata": {
  "kernelspec": {
   "display_name": "adventofcode",
   "language": "python",
   "name": "python3"
  },
  "language_info": {
   "codemirror_mode": {
    "name": "ipython",
    "version": 3
   },
   "file_extension": ".py",
   "mimetype": "text/x-python",
   "name": "python",
   "nbconvert_exporter": "python",
   "pygments_lexer": "ipython3",
   "version": "3.13.1"
  }
 },
 "nbformat": 4,
 "nbformat_minor": 2
}
