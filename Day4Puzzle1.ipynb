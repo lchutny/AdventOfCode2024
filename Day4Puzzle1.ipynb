{
 "cells": [
  {
   "cell_type": "code",
   "execution_count": 1,
   "metadata": {},
   "outputs": [],
   "source": [
    "import pandas as pd\n",
    "import numpy as np"
   ]
  },
  {
   "cell_type": "markdown",
   "metadata": {},
   "source": [
    "# PROBLEM DEFINITION AND EXAMPLE   \n",
    "As the search for the Chief continues, a small Elf who lives on the station tugs on your shirt; she'd like to know if you could help her with her word search (your puzzle input). She only has to find one word: XMAS.  \n",
    "\n",
    "This word search allows words to be horizontal, vertical, diagonal, written backwards, or even overlapping other words. It's a little unusual, though, as you don't merely need to find one instance of XMAS - you need to find all of them. Here are a few ways XMAS might appear, where irrelevant characters have been replaced with .:  \n",
    "\n",
    "..X...  \n",
    ".SAMX.  \n",
    ".A..A.  \n",
    "XMAS.S  \n",
    ".X....  \n",
    "\n",
    "The actual word search will be full of letters instead. For example:  \n",
    "\n",
    "    MMMSXXMASM  \n",
    "    MSAMXMSMSA  \n",
    "    AMXSXMAAMM  \n",
    "    MSAMASMSMX  \n",
    "    XMASAMXAMM  \n",
    "    XXAMMXXAMA  \n",
    "    SMSMSASXSS  \n",
    "    SAXAMASAAA  \n",
    "    MAMMMXMMMM  \n",
    "    MXMXAXMASX  \n",
    "\n",
    "In this word search, XMAS occurs a total of 18 times; here's the same word search again, but where letters not involved in any XMAS have been replaced with .:  \n",
    "\n",
    "    ....XXMAS.  \n",
    "    .SAMXMS...  \n",
    "    ...S..A...  \n",
    "    ..A.A.MS.X  \n",
    "    XMASAMX.MM  \n",
    "    X.....XA.A  \n",
    "    S.S.S.S.SS  \n",
    "    .A.A.A.A.A  \n",
    "    ..M.M.M.MM  \n",
    "    .X.X.XMASX  \n",
    "\n",
    "Take a look at the little Elf's word search. How many times does XMAS appear?"
   ]
  },
  {
   "cell_type": "code",
   "execution_count": 12,
   "metadata": {},
   "outputs": [
    {
     "name": "stdout",
     "output_type": "stream",
     "text": [
      "[['M' 'M' 'M' 'S' 'X' 'X' 'M' 'A' 'S' 'M']\n",
      " ['M' 'S' 'A' 'M' 'X' 'M' 'S' 'M' 'S' 'A']\n",
      " ['A' 'M' 'X' 'S' 'X' 'M' 'A' 'A' 'M' 'M']\n",
      " ['M' 'S' 'A' 'M' 'A' 'S' 'M' 'S' 'M' 'X']\n",
      " ['X' 'M' 'A' 'S' 'A' 'M' 'X' 'A' 'M' 'M']\n",
      " ['X' 'X' 'A' 'M' 'M' 'X' 'X' 'A' 'M' 'A']\n",
      " ['S' 'M' 'S' 'M' 'S' 'A' 'S' 'X' 'S' 'S']\n",
      " ['S' 'A' 'X' 'A' 'M' 'A' 'S' 'A' 'A' 'A']\n",
      " ['M' 'A' 'M' 'M' 'M' 'X' 'M' 'M' 'M' 'M']\n",
      " ['M' 'X' 'M' 'X' 'A' 'X' 'M' 'A' 'S' 'X']]\n"
     ]
    }
   ],
   "source": [
    "filename = 'data/day4_prob1_testinput.txt'\n",
    "data = []\n",
    "with open (filename, 'r') as f:\n",
    "    for l in f:\n",
    "        ar = np.array(list(l.strip()))\n",
    "        data.append(ar)\n",
    "data = np.array(data)\n",
    "print(data)\n"
   ]
  },
  {
   "cell_type": "code",
   "execution_count": 13,
   "metadata": {},
   "outputs": [
    {
     "data": {
      "text/plain": [
       "(10, 10)"
      ]
     },
     "execution_count": 13,
     "metadata": {},
     "output_type": "execute_result"
    }
   ],
   "source": [
    "data.shape"
   ]
  },
  {
   "cell_type": "code",
   "execution_count": 22,
   "metadata": {},
   "outputs": [
    {
     "name": "stdout",
     "output_type": "stream",
     "text": [
      "[(0, 0)]\n",
      "0 0\n",
      "x,y: 0,0; dx,dy: -1,-1; nx,ny: -1,-1; mask[nx,ny]: False; data[nx,ny]: X\n",
      "x,y: 0,0; dx,dy: -1,0; nx,ny: -1,0; mask[nx,ny]: False; data[nx,ny]: M\n",
      "x,y: 0,0; dx,dy: -1,1; nx,ny: -1,1; mask[nx,ny]: False; data[nx,ny]: X\n",
      "x,y: 0,0; dx,dy: 0,1; nx,ny: 0,1; mask[nx,ny]: False; data[nx,ny]: M\n",
      "[(0, 1)]\n",
      "x,y: 0,0; dx,dy: 1,1; nx,ny: 1,1; mask[nx,ny]: False; data[nx,ny]: S\n",
      "x,y: 0,0; dx,dy: 1,0; nx,ny: 1,0; mask[nx,ny]: False; data[nx,ny]: M\n",
      "[(0, 1), (1, 0)]\n",
      "x,y: 0,0; dx,dy: 1,-1; nx,ny: 1,-1; mask[nx,ny]: False; data[nx,ny]: A\n",
      "x,y: 0,0; dx,dy: 0,-1; nx,ny: 0,-1; mask[nx,ny]: False; data[nx,ny]: M\n",
      "[(0, 1), (1, 0)]\n",
      "1 0\n",
      "x,y: 1,0; dx,dy: -1,-1; nx,ny: 0,-1; mask[nx,ny]: False; data[nx,ny]: M\n",
      "x,y: 1,0; dx,dy: -1,0; nx,ny: 0,0; mask[nx,ny]: True; data[nx,ny]: M\n",
      "x,y: 1,0; dx,dy: -1,1; nx,ny: 0,1; mask[nx,ny]: False; data[nx,ny]: M\n",
      "[(0, 1), (0, 1)]\n",
      "x,y: 1,0; dx,dy: 0,1; nx,ny: 1,1; mask[nx,ny]: False; data[nx,ny]: S\n",
      "x,y: 1,0; dx,dy: 1,1; nx,ny: 2,1; mask[nx,ny]: False; data[nx,ny]: M\n",
      "[(0, 1), (0, 1), (2, 1)]\n",
      "x,y: 1,0; dx,dy: 1,0; nx,ny: 2,0; mask[nx,ny]: False; data[nx,ny]: A\n",
      "x,y: 1,0; dx,dy: 1,-1; nx,ny: 2,-1; mask[nx,ny]: False; data[nx,ny]: M\n",
      "x,y: 1,0; dx,dy: 0,-1; nx,ny: 1,-1; mask[nx,ny]: False; data[nx,ny]: A\n",
      "[(0, 1), (0, 1), (2, 1)]\n",
      "2 1\n",
      "x,y: 2,1; dx,dy: -1,-1; nx,ny: 1,0; mask[nx,ny]: True; data[nx,ny]: M\n",
      "x,y: 2,1; dx,dy: -1,0; nx,ny: 1,1; mask[nx,ny]: False; data[nx,ny]: S\n",
      "x,y: 2,1; dx,dy: -1,1; nx,ny: 1,2; mask[nx,ny]: False; data[nx,ny]: A\n",
      "x,y: 2,1; dx,dy: 0,1; nx,ny: 2,2; mask[nx,ny]: False; data[nx,ny]: X\n",
      "x,y: 2,1; dx,dy: 1,1; nx,ny: 3,2; mask[nx,ny]: False; data[nx,ny]: A\n",
      "x,y: 2,1; dx,dy: 1,0; nx,ny: 3,1; mask[nx,ny]: False; data[nx,ny]: S\n",
      "x,y: 2,1; dx,dy: 1,-1; nx,ny: 3,0; mask[nx,ny]: False; data[nx,ny]: M\n",
      "[(0, 1), (0, 1), (3, 0)]\n",
      "x,y: 2,1; dx,dy: 0,-1; nx,ny: 2,0; mask[nx,ny]: False; data[nx,ny]: A\n",
      "[(0, 1), (0, 1), (3, 0)]\n",
      "3 0\n",
      "x,y: 3,0; dx,dy: -1,-1; nx,ny: 2,-1; mask[nx,ny]: False; data[nx,ny]: M\n",
      "x,y: 3,0; dx,dy: -1,0; nx,ny: 2,0; mask[nx,ny]: False; data[nx,ny]: A\n",
      "x,y: 3,0; dx,dy: -1,1; nx,ny: 2,1; mask[nx,ny]: True; data[nx,ny]: M\n",
      "x,y: 3,0; dx,dy: 0,1; nx,ny: 3,1; mask[nx,ny]: False; data[nx,ny]: S\n",
      "x,y: 3,0; dx,dy: 1,1; nx,ny: 4,1; mask[nx,ny]: False; data[nx,ny]: M\n",
      "[(0, 1), (0, 1), (4, 1)]\n",
      "x,y: 3,0; dx,dy: 1,0; nx,ny: 4,0; mask[nx,ny]: False; data[nx,ny]: X\n",
      "x,y: 3,0; dx,dy: 1,-1; nx,ny: 4,-1; mask[nx,ny]: False; data[nx,ny]: M\n",
      "x,y: 3,0; dx,dy: 0,-1; nx,ny: 3,-1; mask[nx,ny]: False; data[nx,ny]: X\n",
      "[(0, 1), (0, 1), (4, 1)]\n",
      "4 1\n",
      "x,y: 4,1; dx,dy: -1,-1; nx,ny: 3,0; mask[nx,ny]: True; data[nx,ny]: M\n",
      "x,y: 4,1; dx,dy: -1,0; nx,ny: 3,1; mask[nx,ny]: False; data[nx,ny]: S\n",
      "x,y: 4,1; dx,dy: -1,1; nx,ny: 3,2; mask[nx,ny]: False; data[nx,ny]: A\n",
      "x,y: 4,1; dx,dy: 0,1; nx,ny: 4,2; mask[nx,ny]: False; data[nx,ny]: A\n",
      "x,y: 4,1; dx,dy: 1,1; nx,ny: 5,2; mask[nx,ny]: False; data[nx,ny]: A\n",
      "x,y: 4,1; dx,dy: 1,0; nx,ny: 5,1; mask[nx,ny]: False; data[nx,ny]: X\n",
      "x,y: 4,1; dx,dy: 1,-1; nx,ny: 5,0; mask[nx,ny]: False; data[nx,ny]: X\n",
      "x,y: 4,1; dx,dy: 0,-1; nx,ny: 4,0; mask[nx,ny]: False; data[nx,ny]: X\n",
      "[(0, 1), (0, 1)]\n",
      "0 1\n",
      "x,y: 0,1; dx,dy: -1,-1; nx,ny: -1,0; mask[nx,ny]: False; data[nx,ny]: M\n",
      "x,y: 0,1; dx,dy: -1,0; nx,ny: -1,1; mask[nx,ny]: False; data[nx,ny]: X\n",
      "x,y: 0,1; dx,dy: -1,1; nx,ny: -1,2; mask[nx,ny]: False; data[nx,ny]: M\n",
      "x,y: 0,1; dx,dy: 0,1; nx,ny: 0,2; mask[nx,ny]: False; data[nx,ny]: M\n",
      "[(0, 1), (0, 2)]\n",
      "x,y: 0,1; dx,dy: 1,1; nx,ny: 1,2; mask[nx,ny]: False; data[nx,ny]: A\n",
      "x,y: 0,1; dx,dy: 1,0; nx,ny: 1,1; mask[nx,ny]: False; data[nx,ny]: S\n",
      "x,y: 0,1; dx,dy: 1,-1; nx,ny: 1,0; mask[nx,ny]: True; data[nx,ny]: M\n",
      "x,y: 0,1; dx,dy: 0,-1; nx,ny: 0,0; mask[nx,ny]: True; data[nx,ny]: M\n",
      "[(0, 1), (0, 2)]\n",
      "0 2\n",
      "x,y: 0,2; dx,dy: -1,-1; nx,ny: -1,1; mask[nx,ny]: False; data[nx,ny]: X\n",
      "x,y: 0,2; dx,dy: -1,0; nx,ny: -1,2; mask[nx,ny]: False; data[nx,ny]: M\n",
      "x,y: 0,2; dx,dy: -1,1; nx,ny: -1,3; mask[nx,ny]: False; data[nx,ny]: X\n",
      "x,y: 0,2; dx,dy: 0,1; nx,ny: 0,3; mask[nx,ny]: False; data[nx,ny]: S\n",
      "x,y: 0,2; dx,dy: 1,1; nx,ny: 1,3; mask[nx,ny]: False; data[nx,ny]: M\n",
      "[(0, 1), (1, 3)]\n",
      "x,y: 0,2; dx,dy: 1,0; nx,ny: 1,2; mask[nx,ny]: False; data[nx,ny]: A\n",
      "x,y: 0,2; dx,dy: 1,-1; nx,ny: 1,1; mask[nx,ny]: False; data[nx,ny]: S\n",
      "x,y: 0,2; dx,dy: 0,-1; nx,ny: 0,1; mask[nx,ny]: True; data[nx,ny]: M\n",
      "[(0, 1), (1, 3)]\n",
      "1 3\n",
      "x,y: 1,3; dx,dy: -1,-1; nx,ny: 0,2; mask[nx,ny]: True; data[nx,ny]: M\n",
      "x,y: 1,3; dx,dy: -1,0; nx,ny: 0,3; mask[nx,ny]: False; data[nx,ny]: S\n",
      "x,y: 1,3; dx,dy: -1,1; nx,ny: 0,4; mask[nx,ny]: False; data[nx,ny]: X\n",
      "x,y: 1,3; dx,dy: 0,1; nx,ny: 1,4; mask[nx,ny]: False; data[nx,ny]: X\n",
      "x,y: 1,3; dx,dy: 1,1; nx,ny: 2,4; mask[nx,ny]: False; data[nx,ny]: X\n",
      "x,y: 1,3; dx,dy: 1,0; nx,ny: 2,3; mask[nx,ny]: False; data[nx,ny]: S\n",
      "x,y: 1,3; dx,dy: 1,-1; nx,ny: 2,2; mask[nx,ny]: False; data[nx,ny]: X\n",
      "x,y: 1,3; dx,dy: 0,-1; nx,ny: 1,2; mask[nx,ny]: False; data[nx,ny]: A\n",
      "[(0, 1)]\n",
      "0 1\n",
      "x,y: 0,1; dx,dy: -1,-1; nx,ny: -1,0; mask[nx,ny]: False; data[nx,ny]: M\n",
      "x,y: 0,1; dx,dy: -1,0; nx,ny: -1,1; mask[nx,ny]: False; data[nx,ny]: X\n",
      "x,y: 0,1; dx,dy: -1,1; nx,ny: -1,2; mask[nx,ny]: False; data[nx,ny]: M\n",
      "x,y: 0,1; dx,dy: 0,1; nx,ny: 0,2; mask[nx,ny]: True; data[nx,ny]: M\n",
      "x,y: 0,1; dx,dy: 1,1; nx,ny: 1,2; mask[nx,ny]: False; data[nx,ny]: A\n",
      "x,y: 0,1; dx,dy: 1,0; nx,ny: 1,1; mask[nx,ny]: False; data[nx,ny]: S\n",
      "x,y: 0,1; dx,dy: 1,-1; nx,ny: 1,0; mask[nx,ny]: True; data[nx,ny]: M\n",
      "x,y: 0,1; dx,dy: 0,-1; nx,ny: 0,0; mask[nx,ny]: True; data[nx,ny]: M\n",
      "[]\n"
     ]
    }
   ],
   "source": [
    "# create neighbours in a clockwise fashion from upper left\n",
    "neighbours = [(-1,-1), (-1,0), (-1,1), (0,1), (1,1), (1,0), (1,-1), (0,-1)]\n",
    "\n",
    "mask = np.zeros_like(data, dtype = bool)\n",
    "stack = [(0,0)] # push start coordinate on stack\n",
    "\n",
    "while stack:\n",
    "    print(stack)\n",
    "    x, y = stack.pop()\n",
    "    print(x,y)\n",
    "    mask[x, y] = True\n",
    "    for dx, dy in neighbours:\n",
    "        nx, ny = x + dx, y + dy\n",
    "        print(f\"x,y: {x},{y}; dx,dy: {dx},{dy}; nx,ny: {nx},{ny}; mask[nx,ny]: {mask[nx,ny]}; data[nx,ny]: {data[nx,ny]}\")\n",
    "        if (0 <= nx < data.shape[0] and 0 <= ny < data.shape[1] and not mask[nx, ny] and data[nx,ny]=='M'):\n",
    "            stack.append((nx, ny))\n",
    "            print(stack)\n",
    "\n",
    "# for line in mask:\n",
    "#     print ''.join('01'[i] for i in line)    \n",
    "print(stack)"
   ]
  }
 ],
 "metadata": {
  "kernelspec": {
   "display_name": "adventofcode",
   "language": "python",
   "name": "python3"
  },
  "language_info": {
   "codemirror_mode": {
    "name": "ipython",
    "version": 3
   },
   "file_extension": ".py",
   "mimetype": "text/x-python",
   "name": "python",
   "nbconvert_exporter": "python",
   "pygments_lexer": "ipython3",
   "version": "3.13.1"
  }
 },
 "nbformat": 4,
 "nbformat_minor": 2
}
