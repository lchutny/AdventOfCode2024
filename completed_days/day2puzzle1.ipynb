{
 "cells": [
  {
   "cell_type": "code",
   "execution_count": 1,
   "metadata": {},
   "outputs": [],
   "source": [
    "import pandas as pd\n",
    "import numpy as np"
   ]
  },
  {
   "cell_type": "markdown",
   "metadata": {},
   "source": [
    "# PUZZLE DESCRIPTION\n",
    "The unusual data (your puzzle input) consists of many reports, one report per line. Each report is a list of numbers called levels that are separated by spaces. For example:\n",
    "\n",
    "7 6 4 2 1  \n",
    "1 2 7 8 9  \n",
    "9 7 6 2 1  \n",
    "1 3 2 4 5  \n",
    "8 6 4 4 1  \n",
    "1 3 6 7 9  \n",
    "This example data contains six reports each containing five levels.  \n",
    "\n",
    "The engineers are trying to figure out which reports are safe. The Red-Nosed reactor safety systems can only tolerate levels that are either gradually increasing or gradually decreasing. So, a report only counts as safe if both of the following are true:  \n",
    "\n",
    "* The levels are either all increasing or all decreasing.\n",
    "* Any two adjacent levels differ by at least one and at most three.\n",
    "* In the example above, the reports can be found safe or unsafe by checking those rules:\n",
    "\n",
    "    7 6 4 2 1: Safe because the levels are all decreasing by 1 or 2.  \n",
    "    1 2 7 8 9: Unsafe because 2 7 is an increase of 5.  \n",
    "    9 7 6 2 1: Unsafe because 6 2 is a decrease of 4.  \n",
    "    1 3 2 4 5: Unsafe because 1 3 is increasing but 3 2 is decreasing.  \n",
    "    8 6 4 4 1: Unsafe because 4 4 is neither an increase or a decrease.  \n",
    "    1 3 6 7 9: Safe because the levels are all increasing by 1, 2, or 3.  \n",
    "\n",
    "So, in this example, 2 reports are safe.\n",
    "\n",
    "Analyze the unusual data from the engineers. How many reports are safe?"
   ]
  },
  {
   "cell_type": "code",
   "execution_count": 52,
   "metadata": {},
   "outputs": [],
   "source": [
    "def process_line(line, max_level_change):\n",
    "    # change the text line into list of integers\n",
    "    levels = list(map(int,line.split()))\n",
    "    # determine if list is all increasing or all decreasing:\n",
    "    diff_list = np.diff(levels)\n",
    "    score_decr = np.all(diff_list<0)\n",
    "    score_incr =np.all(diff_list>0)\n",
    "    biggest_level_change = max(np.abs(diff_list))\n",
    "    if score_decr or score_incr:\n",
    "        if biggest_level_change <= max_level_change:\n",
    "            score = 'Safe'\n",
    "        else: score = 'Unsafe'\n",
    "    else: score='Unsafe'\n",
    "    return score"
   ]
  },
  {
   "cell_type": "code",
   "execution_count": 56,
   "metadata": {},
   "outputs": [],
   "source": [
    "def count_safe_reports(filename,max_level_change):\n",
    "    safe_reports = 0\n",
    "    with open(filename,'r') as file:\n",
    "        for  line in file:\n",
    "            result = process_line(line,max_level_change)\n",
    "            if result == 'Safe':\n",
    "                safe_reports += 1\n",
    "    return safe_reports"
   ]
  },
  {
   "cell_type": "code",
   "execution_count": 57,
   "metadata": {},
   "outputs": [
    {
     "name": "stdout",
     "output_type": "stream",
     "text": [
      "Total Safe Reports: 2\n"
     ]
    }
   ],
   "source": [
    "# TEST\n",
    "max_level_change = 3\n",
    "num_safe_reports = count_safe_reports(\"data/testday2.txt\",max_level_change)\n",
    "print(f\"Total Safe Reports: {num_safe_reports}\")"
   ]
  },
  {
   "cell_type": "code",
   "execution_count": 58,
   "metadata": {},
   "outputs": [
    {
     "name": "stdout",
     "output_type": "stream",
     "text": [
      "Total Safe Reports: 524\n"
     ]
    }
   ],
   "source": [
    "# ACTUAL\n",
    "max_level_change = 3\n",
    "num_safe_reports = count_safe_reports(\"data/day2_input.txt\",max_level_change)\n",
    "print(f\"Total Safe Reports: {num_safe_reports}\")"
   ]
  },
  {
   "cell_type": "markdown",
   "metadata": {},
   "source": [
    "# CORRECT ANSWER!"
   ]
  }
 ],
 "metadata": {
  "kernelspec": {
   "display_name": "adventofcode",
   "language": "python",
   "name": "python3"
  },
  "language_info": {
   "codemirror_mode": {
    "name": "ipython",
    "version": 3
   },
   "file_extension": ".py",
   "mimetype": "text/x-python",
   "name": "python",
   "nbconvert_exporter": "python",
   "pygments_lexer": "ipython3",
   "version": "3.13.1"
  }
 },
 "nbformat": 4,
 "nbformat_minor": 2
}
