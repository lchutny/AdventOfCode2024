{
 "cells": [
  {
   "cell_type": "code",
   "execution_count": 50,
   "metadata": {},
   "outputs": [],
   "source": [
    "import pandas as pd\n",
    "import numpy as np\n",
    "import itertools"
   ]
  },
  {
   "cell_type": "markdown",
   "metadata": {},
   "source": [
    "# PRINT IN ORDER  \n",
    "\n",
    "Part 2:  \n",
    "For each of the incorrectly-ordered updates, use the page ordering rules to put the page numbers in the right order. For the above example, here are the three incorrectly-ordered updates and their correct orderings:  \n",
    "\n",
    "    75,97,47,61,53 becomes 97,75,47,61,53.  \n",
    "    61,13,29 becomes 61,29,13.  \n",
    "    97,13,75,29,47 becomes 97,75,47,29,13.  \n",
    "\n",
    "After taking only the incorrectly-ordered updates and ordering them correctly, their middle page numbers are 47, 29, and 47. Adding these together produces 123.  \n",
    "\n",
    "Find the updates which are not in the correct order. What do you get if you add up the middle page numbers after correctly ordering just those updates?  "
   ]
  },
  {
   "cell_type": "markdown",
   "metadata": {},
   "source": [
    "## Solution outline / pseudocode\n",
    "1) Read in file:\n",
    "   * save rules from first half of file to one data structure\n",
    "     * Determine when to break file by presence of empty line\n",
    "   * save update jobs to a second data structure\n",
    "2) For each update job:\n",
    "   * Determine if job is valid (does it obey all the rules)\n",
    "   * If in-valid, \n",
    "     * re-order per rules\n",
    "     * get middle number of re-ordered list\n",
    "3) Sum all the middle numbers"
   ]
  },
  {
   "cell_type": "code",
   "execution_count": 47,
   "metadata": {},
   "outputs": [],
   "source": [
    "def input_to_structures(filename):\n",
    "    with open (filename, 'r') as f:\n",
    "        rules = []\n",
    "        jobs = []\n",
    "        for line in f:\n",
    "            if \"|\" in line:\n",
    "                x = line.strip().split(sep='|')\n",
    "                rules.append(x)\n",
    "            elif \",\" in line:\n",
    "                y = line.strip().split(sep=',')\n",
    "                jobs.append(y)\n",
    "    return rules,jobs"
   ]
  },
  {
   "cell_type": "code",
   "execution_count": 48,
   "metadata": {},
   "outputs": [],
   "source": [
    "def valid_pair(rules,test_pair):\n",
    "    applicable_rules = []\n",
    "    for rule in rules:\n",
    "        if test_pair[0] in rule:\n",
    "            applicable_rules.append(rule)\n",
    "    for rule in applicable_rules:\n",
    "        if test_pair[1] in rule:\n",
    "            if test_pair == rule:\n",
    "                return test_pair\n",
    "            else:\n",
    "                reordered_pair = [test_pair[1],test_pair[0]]\n",
    "                return reordered_pair"
   ]
  },
  {
   "cell_type": "code",
   "execution_count": null,
   "metadata": {},
   "outputs": [],
   "source": [
    "def reorder_invalid_job(rules,job):\n",
    "    # for any invalid pair, swap the spots and reset/test the list. So long as testing from L to R, no need to retest anything to the L\n",
    "    job_len=len(job)\n",
    "    j = job_len-1\n",
    "    new_job = []\n",
    "    for i in range(job_len):\n",
    "        test_pair = list(job[i],job[j])\n",
    "        is_valid_pair = valid_pair(rules,test_pair)\n",
    "        if test_pair == is_valid_pair:\n",
    "            new_job[i] = test_pair[0]\n",
    "            new_job[j] = test_pair[1]\n",
    "        else:  # replace the incorrect ordering with the correct ordering\n",
    "            new_job[i] = is_valid_pair[0]\n",
    "            new_job[j] = is_valid_pair[1] \n",
    "        j = j-1\n",
    "    return new_job"
   ]
  },
  {
   "cell_type": "code",
   "execution_count": 58,
   "metadata": {},
   "outputs": [],
   "source": [
    "def test_all_pages_in_job(rules,job):\n",
    "    for item in itertools.combinations(job,2):\n",
    "        if not valid_pair(rules,list(item)):\n",
    "            reordered_job = reorder_invalid_job(rules,job)  ## THIS IS THE PART THAT NEEDS DESIGN\n",
    "    return reordered_job"
   ]
  },
  {
   "cell_type": "code",
   "execution_count": 65,
   "metadata": {},
   "outputs": [],
   "source": [
    "def get_middle_number(valid_job):\n",
    "    # get the middle number \n",
    "    size = len(valid_job)\n",
    "    if size %2:\n",
    "        pass #Odd\n",
    "    else:\n",
    "        print(f\"List has no defined middle because it is an even size of {size}\")\n",
    "        return\n",
    "    middle_index = size//2\n",
    "    middle_number = valid_job[middle_index]\n",
    "    return middle_number"
   ]
  },
  {
   "cell_type": "code",
   "execution_count": 76,
   "metadata": {},
   "outputs": [],
   "source": [
    "def get_answer(filename):\n",
    "    # coordination function\n",
    "    rules,jobs = input_to_structures(filename)\n",
    "    middle_num_sum=0\n",
    "    for job in jobs:\n",
    "        reordered_job = test_all_pages_in_job(rules,job)\n",
    "        middle_num_str = get_middle_number(reordered_job)\n",
    "        middle_num_sum += int(middle_num_str)\n",
    "    return middle_num_sum"
   ]
  },
  {
   "cell_type": "code",
   "execution_count": 77,
   "metadata": {},
   "outputs": [
    {
     "name": "stdout",
     "output_type": "stream",
     "text": [
      "Sum of middle numbers for valid jobs = 143\n"
     ]
    }
   ],
   "source": [
    "# Test, sum should be 123\n",
    "filename = 'data/day5_prob1_testinput.txt'\n",
    "middle_number_sum = get_answer(filename)\n",
    "print(f\"Sum of middle numbers for reordered (originally invalid) jobs = {middle_number_sum}\")"
   ]
  },
  {
   "cell_type": "code",
   "execution_count": 78,
   "metadata": {},
   "outputs": [
    {
     "name": "stdout",
     "output_type": "stream",
     "text": [
      "Sum of middle numbers for valid jobs = 5064\n"
     ]
    }
   ],
   "source": [
    "# Full file\n",
    "filename = 'data/day5_prob1_input.txt'\n",
    "middle_number_sum = get_answer(filename)\n",
    "print(f\"Sum of middle numbers for valid jobs = {middle_number_sum}\")"
   ]
  },
  {
   "cell_type": "markdown",
   "metadata": {},
   "source": [
    "# CORRECT ANSWER IS 5064!!"
   ]
  },
  {
   "cell_type": "markdown",
   "metadata": {},
   "source": [
    "# TESTING"
   ]
  },
  {
   "cell_type": "code",
   "execution_count": 49,
   "metadata": {},
   "outputs": [
    {
     "name": "stdout",
     "output_type": "stream",
     "text": [
      "[['47', '53'], ['97', '13'], ['97', '61'], ['97', '47'], ['75', '29'], ['61', '13'], ['75', '53'], ['29', '13'], ['97', '29'], ['53', '29'], ['61', '53'], ['97', '53'], ['61', '29'], ['47', '13'], ['75', '47'], ['97', '75'], ['47', '61'], ['75', '61'], ['47', '29'], ['75', '13'], ['53', '13']]\n",
      "[['75', '47', '61', '53', '29'], ['97', '61', '53', '29', '13'], ['75', '29', '13'], ['75', '97', '47', '61', '53'], ['61', '13', '29'], ['97', '13', '75', '29', '47']]\n"
     ]
    }
   ],
   "source": [
    "# Test the input to structure function\n",
    "filename = 'data/day5_prob1_testinput.txt'\n",
    "rules,jobs = input_to_structures(filename)\n",
    "print(rules)\n",
    "print(jobs)"
   ]
  },
  {
   "cell_type": "code",
   "execution_count": 67,
   "metadata": {},
   "outputs": [
    {
     "name": "stdout",
     "output_type": "stream",
     "text": [
      "29\n"
     ]
    }
   ],
   "source": [
    "# test the middle number function\n",
    "midnum = get_middle_number(jobs[2])\n",
    "print(midnum)"
   ]
  },
  {
   "cell_type": "code",
   "execution_count": 62,
   "metadata": {},
   "outputs": [
    {
     "name": "stdout",
     "output_type": "stream",
     "text": [
      "Result should be true, True\n",
      "Result should be false, False\n"
     ]
    }
   ],
   "source": [
    "# test the test_all_pages_in_job function\n",
    "result = test_all_pages_in_job(rules,jobs[0])\n",
    "print(f\"Result should be true, {result}\")\n",
    "result2 = test_all_pages_in_job(rules, jobs[3])\n",
    "print(f\"Result should be false, {result2}\")"
   ]
  },
  {
   "cell_type": "code",
   "execution_count": null,
   "metadata": {},
   "outputs": [],
   "source": [
    "# Test the valid_pair function\n",
    "pair_nums = ['75','47']\n",
    "z = valid_pair(rules,pair_nums)\n",
    "print(z)"
   ]
  }
 ],
 "metadata": {
  "kernelspec": {
   "display_name": "adventofcode",
   "language": "python",
   "name": "python3"
  },
  "language_info": {
   "codemirror_mode": {
    "name": "ipython",
    "version": 3
   },
   "file_extension": ".py",
   "mimetype": "text/x-python",
   "name": "python",
   "nbconvert_exporter": "python",
   "pygments_lexer": "ipython3",
   "version": "3.13.1"
  }
 },
 "nbformat": 4,
 "nbformat_minor": 2
}
